{
 "cells": [
  {
   "cell_type": "markdown",
   "id": "f9beb4c8",
   "metadata": {},
   "source": [
    "#### Import Numpy ####"
   ]
  },
  {
   "cell_type": "code",
   "execution_count": 1,
   "id": "3b6cd944",
   "metadata": {},
   "outputs": [],
   "source": [
    "import numpy as np"
   ]
  },
  {
   "cell_type": "markdown",
   "id": "ce7c3613",
   "metadata": {},
   "source": [
    "#### Generate Dataset using Random Library ####"
   ]
  },
  {
   "cell_type": "code",
   "execution_count": 2,
   "id": "5f19f026",
   "metadata": {},
   "outputs": [],
   "source": [
    "import random\n",
    "massive_array=np.random.random(100000)"
   ]
  },
  {
   "cell_type": "markdown",
   "id": "5c685a8c",
   "metadata": {},
   "source": [
    "#### Why NumPy? ####\n",
    "The main reasons to use NumPy is because it's fast"
   ]
  },
  {
   "cell_type": "code",
   "execution_count": 3,
   "id": "59b44b23",
   "metadata": {},
   "outputs": [
    {
     "name": "stdout",
     "output_type": "stream",
     "text": [
      "7.06 ms ± 95.7 µs per loop (mean ± std. dev. of 7 runs, 100 loops each)\n",
      "37 µs ± 90.7 ns per loop (mean ± std. dev. of 7 runs, 10000 loops each)\n"
     ]
    }
   ],
   "source": [
    "%timeit sum(massive_array) #Python's sum()\n",
    "%timeit np.sum(massive_array) #Numpy's np.sum()"
   ]
  },
  {
   "cell_type": "markdown",
   "id": "eafdcc64",
   "metadata": {},
   "source": [
    "### Dataset ###\n",
    "- Array - A list of numbers, can be multi-dimensional.\n",
    "- Scalar - A single number (e.g. 1).\n",
    "- Vector - A list of numbers with 1-dimesion (e.g. np.array([1, 2, 3])).\n",
    "- Matrix - A (usually) multi-dimensional list of numbers (e.g. np.array([[1, 2, 3], [4, 5, 6]]))."
   ]
  },
  {
   "cell_type": "markdown",
   "id": "0a0f5f89",
   "metadata": {},
   "source": [
    "### Arrays ###"
   ]
  },
  {
   "attachments": {},
   "cell_type": "markdown",
   "id": "26a9a20a",
   "metadata": {},
   "source": [
    "<img src=\"https://cdn.hashnode.com/res/hashnode/image/upload/v1619626760274/-Tc_Xz4ha.png?auto=compress,format&format=webp\">"
   ]
  },
  {
   "cell_type": "code",
   "execution_count": 4,
   "id": "ec001b48",
   "metadata": {},
   "outputs": [
    {
     "data": {
      "text/plain": [
       "array([1, 2, 3, 4, 5, 6])"
      ]
     },
     "execution_count": 4,
     "metadata": {},
     "output_type": "execute_result"
    }
   ],
   "source": [
    "one_dim_array = np.array([1,2,3,4,5,6]) #1D Array or vector\n",
    "one_dim_array"
   ]
  },
  {
   "cell_type": "code",
   "execution_count": 5,
   "id": "9eb351f8",
   "metadata": {},
   "outputs": [
    {
     "data": {
      "text/plain": [
       "array([[1, 2, 3],\n",
       "       [4, 5, 6]])"
      ]
     },
     "execution_count": 5,
     "metadata": {},
     "output_type": "execute_result"
    }
   ],
   "source": [
    "two_dim_array=np.array([[1,2,3],[4,5,6]]) #2D Array or matrix\n",
    "two_dim_array"
   ]
  },
  {
   "cell_type": "code",
   "execution_count": 6,
   "id": "4f149d8c",
   "metadata": {},
   "outputs": [
    {
     "data": {
      "text/plain": [
       "array([[[ 1,  2,  3],\n",
       "        [ 4,  5,  6]],\n",
       "\n",
       "       [[ 7,  8,  9],\n",
       "        [10, 11, 12]]])"
      ]
     },
     "execution_count": 6,
     "metadata": {},
     "output_type": "execute_result"
    }
   ],
   "source": [
    "three_dim_array=np.array([[[1,2,3],[4,5,6]],[[7,8,9],[10,11,12]]]) #3D Array or matrix\n",
    "three_dim_array"
   ]
  },
  {
   "cell_type": "markdown",
   "id": "26be5092",
   "metadata": {},
   "source": [
    "### Inspect Array ###"
   ]
  },
  {
   "cell_type": "markdown",
   "id": "208d6171",
   "metadata": {},
   "source": [
    "<b>ndarray.ndim</b>: It represents the number of dimensions (axes) of the ndarray."
   ]
  },
  {
   "cell_type": "code",
   "execution_count": 7,
   "id": "0197c062",
   "metadata": {},
   "outputs": [
    {
     "data": {
      "text/plain": [
       "(1, 2, 3)"
      ]
     },
     "execution_count": 7,
     "metadata": {},
     "output_type": "execute_result"
    }
   ],
   "source": [
    "one_dim_array.ndim,two_dim_array.ndim,three_dim_array.ndim"
   ]
  },
  {
   "cell_type": "markdown",
   "id": "5b87e06a",
   "metadata": {},
   "source": [
    "<b>ndarray.shape</b>: Shape is a tuple of integers representing the size of the ndarray in each dimension."
   ]
  },
  {
   "cell_type": "code",
   "execution_count": 8,
   "id": "a68fe2c4",
   "metadata": {},
   "outputs": [
    {
     "data": {
      "text/plain": [
       "((6,), (2, 3), (2, 2, 3))"
      ]
     },
     "execution_count": 8,
     "metadata": {},
     "output_type": "execute_result"
    }
   ],
   "source": [
    "one_dim_array.shape,two_dim_array.shape,three_dim_array.shape"
   ]
  },
  {
   "cell_type": "markdown",
   "id": "b3a55821",
   "metadata": {},
   "source": [
    "<b>ndarray.size</b>: Size is the total number of elements in the ndarray. In other words, it is the product of elements of shape."
   ]
  },
  {
   "cell_type": "code",
   "execution_count": 9,
   "id": "ce4de01e",
   "metadata": {},
   "outputs": [
    {
     "data": {
      "text/plain": [
       "(6, 6, 12)"
      ]
     },
     "execution_count": 9,
     "metadata": {},
     "output_type": "execute_result"
    }
   ],
   "source": [
    "one_dim_array.size,two_dim_array.size,three_dim_array.size"
   ]
  },
  {
   "cell_type": "markdown",
   "id": "7706cd77",
   "metadata": {},
   "source": [
    "<b>ndarray.dtype</b>: It shows the data type of the elements of a NumPy array."
   ]
  },
  {
   "cell_type": "code",
   "execution_count": 10,
   "id": "66e86ff8",
   "metadata": {},
   "outputs": [
    {
     "data": {
      "text/plain": [
       "(dtype('int32'), dtype('int32'), dtype('int32'))"
      ]
     },
     "execution_count": 10,
     "metadata": {},
     "output_type": "execute_result"
    }
   ],
   "source": [
    "one_dim_array.dtype,two_dim_array.dtype,three_dim_array.dtype"
   ]
  },
  {
   "cell_type": "markdown",
   "id": "ad4c7730",
   "metadata": {},
   "source": [
    "<b>ndarray.itemsize</b>: It returns the size (in bytes) of each element of a NumPy array. For example in below code, the item size is 4 because the array consists of integers (int32)."
   ]
  },
  {
   "cell_type": "code",
   "execution_count": 11,
   "id": "9e145f4f",
   "metadata": {},
   "outputs": [
    {
     "data": {
      "text/plain": [
       "(4, 4, 4)"
      ]
     },
     "execution_count": 11,
     "metadata": {},
     "output_type": "execute_result"
    }
   ],
   "source": [
    "one_dim_array.itemsize,two_dim_array.itemsize,three_dim_array.itemsize"
   ]
  },
  {
   "cell_type": "markdown",
   "id": "c897bf34",
   "metadata": {},
   "source": [
    "<b>ndarray.nbytes</b>: It lists the total size (in bytes) of the array."
   ]
  },
  {
   "cell_type": "code",
   "execution_count": 12,
   "id": "4fa35c21",
   "metadata": {},
   "outputs": [
    {
     "data": {
      "text/plain": [
       "(24, 24, 48)"
      ]
     },
     "execution_count": 12,
     "metadata": {},
     "output_type": "execute_result"
    }
   ],
   "source": [
    "one_dim_array.nbytes,two_dim_array.nbytes,three_dim_array.nbytes"
   ]
  },
  {
   "cell_type": "markdown",
   "id": "7b2ad8a7",
   "metadata": {},
   "source": [
    "<b>len()</b>: Returns the length of the array i.e. number of elements present in the array"
   ]
  },
  {
   "cell_type": "code",
   "execution_count": 13,
   "id": "23f9d166",
   "metadata": {},
   "outputs": [
    {
     "data": {
      "text/plain": [
       "6"
      ]
     },
     "execution_count": 13,
     "metadata": {},
     "output_type": "execute_result"
    }
   ],
   "source": [
    "len(one_dim_array)"
   ]
  },
  {
   "cell_type": "markdown",
   "id": "30b2899d",
   "metadata": {},
   "source": [
    "<b>astype()</b>: method is used to cast a pandas object to a specified dtype"
   ]
  },
  {
   "cell_type": "code",
   "execution_count": 14,
   "id": "07d85c9c",
   "metadata": {},
   "outputs": [
    {
     "data": {
      "text/plain": [
       "array([1., 2., 3., 4., 5., 6.])"
      ]
     },
     "execution_count": 14,
     "metadata": {},
     "output_type": "execute_result"
    }
   ],
   "source": [
    "one_dim_array.astype(float)"
   ]
  },
  {
   "cell_type": "markdown",
   "id": "abbc527b",
   "metadata": {},
   "source": [
    "### Initial Placeholder ###"
   ]
  },
  {
   "cell_type": "markdown",
   "id": "528f0242",
   "metadata": {},
   "source": [
    "<b>np.zeros()</b>: Return a new array of given shape and type, filled with zeros"
   ]
  },
  {
   "cell_type": "code",
   "execution_count": 15,
   "id": "664b364d",
   "metadata": {},
   "outputs": [
    {
     "data": {
      "text/plain": [
       "array([[0., 0., 0., 0.]])"
      ]
     },
     "execution_count": 15,
     "metadata": {},
     "output_type": "execute_result"
    }
   ],
   "source": [
    "np.zeros([1,4]) #Create array of 1 row and 4 columns with all zeros"
   ]
  },
  {
   "cell_type": "markdown",
   "id": "4b8a65a8",
   "metadata": {},
   "source": [
    "<b>np.ones()</b>: Return a new array of given shape and type, filled with ones"
   ]
  },
  {
   "cell_type": "code",
   "execution_count": 16,
   "id": "912214e4",
   "metadata": {},
   "outputs": [
    {
     "data": {
      "text/plain": [
       "array([[1., 1., 1., 1.]])"
      ]
     },
     "execution_count": 16,
     "metadata": {},
     "output_type": "execute_result"
    }
   ],
   "source": [
    "np.ones([1,4]) #Create array of 1 row and 4 columns with all ones"
   ]
  },
  {
   "cell_type": "markdown",
   "id": "59546867",
   "metadata": {},
   "source": [
    "<b>np.arange()</b>: Print evenly spaced values within a given interval."
   ]
  },
  {
   "cell_type": "code",
   "execution_count": 17,
   "id": "e92a1b4b",
   "metadata": {},
   "outputs": [
    {
     "data": {
      "text/plain": [
       "array([ 2,  6, 10])"
      ]
     },
     "execution_count": 17,
     "metadata": {},
     "output_type": "execute_result"
    }
   ],
   "source": [
    "np.arange(2,12,4) # np.arange(start,stop,step)"
   ]
  },
  {
   "cell_type": "markdown",
   "id": "cca4b416",
   "metadata": {},
   "source": [
    "<b>np.linspace()</b>: Creates an array with values that are spaced linearly in a specified interval"
   ]
  },
  {
   "cell_type": "code",
   "execution_count": 18,
   "id": "308744e5",
   "metadata": {
    "scrolled": true
   },
   "outputs": [
    {
     "data": {
      "text/plain": [
       "array([ 0.,  2.,  4.,  6.,  8., 10.])"
      ]
     },
     "execution_count": 18,
     "metadata": {},
     "output_type": "execute_result"
    }
   ],
   "source": [
    "np.linspace(0,10,6)"
   ]
  },
  {
   "cell_type": "markdown",
   "id": "ce80819f",
   "metadata": {},
   "source": [
    "<b>np.random.rand()</b>: Returns array with random integers"
   ]
  },
  {
   "cell_type": "code",
   "execution_count": 19,
   "id": "85539a57",
   "metadata": {},
   "outputs": [
    {
     "data": {
      "text/plain": [
       "array([[0.62289979, 0.03920507, 0.79754961, 0.705733  , 0.96201531,\n",
       "        0.12766389, 0.55618201, 0.10136202, 0.93620605, 0.58980688],\n",
       "       [0.40237346, 0.10783197, 0.58085436, 0.5702277 , 0.33186035,\n",
       "        0.07229962, 0.7233907 , 0.22600641, 0.91444467, 0.52620994]])"
      ]
     },
     "execution_count": 19,
     "metadata": {},
     "output_type": "execute_result"
    }
   ],
   "source": [
    "np.random.rand(2,10)"
   ]
  },
  {
   "cell_type": "markdown",
   "id": "85909568",
   "metadata": {},
   "source": [
    "<b>np.full()</b>: Return a new array of given shape and type, filled with fill_value."
   ]
  },
  {
   "cell_type": "code",
   "execution_count": 20,
   "id": "8a6cd49a",
   "metadata": {},
   "outputs": [
    {
     "data": {
      "text/plain": [
       "array([[7, 7],\n",
       "       [7, 7]])"
      ]
     },
     "execution_count": 20,
     "metadata": {},
     "output_type": "execute_result"
    }
   ],
   "source": [
    "a = np.full((2,2),7)\n",
    "a"
   ]
  },
  {
   "cell_type": "markdown",
   "id": "2591ecd8",
   "metadata": {},
   "source": [
    "<b>np.eye()</b>: #Create an identity matrix"
   ]
  },
  {
   "cell_type": "code",
   "execution_count": 21,
   "id": "fb4d1611",
   "metadata": {},
   "outputs": [
    {
     "data": {
      "text/plain": [
       "array([[1., 0., 0.],\n",
       "       [0., 1., 0.],\n",
       "       [0., 0., 1.]])"
      ]
     },
     "execution_count": 21,
     "metadata": {},
     "output_type": "execute_result"
    }
   ],
   "source": [
    "b = np.eye(3) #Create a 3X3 identity matrix\n",
    "b"
   ]
  },
  {
   "cell_type": "markdown",
   "id": "a69e8f54",
   "metadata": {},
   "source": [
    "<b>np.empty()</b>: Return a new array of given shape and type, without initializing entries."
   ]
  },
  {
   "cell_type": "code",
   "execution_count": 22,
   "id": "00023c83",
   "metadata": {},
   "outputs": [
    {
     "data": {
      "text/plain": [
       "array([[9.60186868e-312, 2.47032823e-322, 0.00000000e+000],\n",
       "       [0.00000000e+000, 1.89146896e-307, 3.69776220e-062],\n",
       "       [6.20515105e-091, 4.39334328e+175, 8.26222417e-072],\n",
       "       [1.70391812e+160, 3.99910963e+252, 1.77038188e-051]])"
      ]
     },
     "execution_count": 22,
     "metadata": {},
     "output_type": "execute_result"
    }
   ],
   "source": [
    "c=np.empty((4,3))\n",
    "c"
   ]
  },
  {
   "cell_type": "markdown",
   "id": "4a846f63",
   "metadata": {},
   "source": [
    "### Array Indexing ### "
   ]
  },
  {
   "cell_type": "markdown",
   "id": "143d6cfe",
   "metadata": {},
   "source": [
    "access elements of an array"
   ]
  },
  {
   "cell_type": "code",
   "execution_count": 23,
   "id": "f6befaf7",
   "metadata": {},
   "outputs": [
    {
     "name": "stdout",
     "output_type": "stream",
     "text": [
      "[1 2 3 4 5 6]\n",
      "-------------\n",
      "[[1 2 3]\n",
      " [4 5 6]]\n",
      "-------------\n",
      "[[[ 1  2  3]\n",
      "  [ 4  5  6]]\n",
      "\n",
      " [[ 7  8  9]\n",
      "  [10 11 12]]]\n"
     ]
    }
   ],
   "source": [
    "print(one_dim_array)\n",
    "print(\"-------------\")\n",
    "print(two_dim_array)\n",
    "print(\"-------------\")\n",
    "print(three_dim_array)"
   ]
  },
  {
   "cell_type": "code",
   "execution_count": 24,
   "id": "14b65e6b",
   "metadata": {},
   "outputs": [
    {
     "data": {
      "text/plain": [
       "2"
      ]
     },
     "execution_count": 24,
     "metadata": {},
     "output_type": "execute_result"
    }
   ],
   "source": [
    "one_dim_array[1] #Select element with index 1"
   ]
  },
  {
   "cell_type": "code",
   "execution_count": 25,
   "id": "9f8870fd",
   "metadata": {},
   "outputs": [
    {
     "data": {
      "text/plain": [
       "6"
      ]
     },
     "execution_count": 25,
     "metadata": {},
     "output_type": "execute_result"
    }
   ],
   "source": [
    "two_dim_array[1,2] #Select element of row index 1 and column index 2"
   ]
  },
  {
   "cell_type": "code",
   "execution_count": 26,
   "id": "533816b4",
   "metadata": {},
   "outputs": [
    {
     "data": {
      "text/plain": [
       "12"
      ]
     },
     "execution_count": 26,
     "metadata": {},
     "output_type": "execute_result"
    }
   ],
   "source": [
    "three_dim_array[1,1,2] "
   ]
  },
  {
   "cell_type": "markdown",
   "id": "a2d42aeb",
   "metadata": {},
   "source": [
    "### Array Slicing ###"
   ]
  },
  {
   "cell_type": "markdown",
   "id": "9f4fc147",
   "metadata": {},
   "source": [
    "Slicing means taking elements from one given index to another given index."
   ]
  },
  {
   "cell_type": "code",
   "execution_count": 27,
   "id": "5ea4ea19",
   "metadata": {},
   "outputs": [
    {
     "data": {
      "text/plain": [
       "array([1, 2])"
      ]
     },
     "execution_count": 27,
     "metadata": {},
     "output_type": "execute_result"
    }
   ],
   "source": [
    "one_dim_array[:2] #Select items from index 0 to index 1"
   ]
  },
  {
   "cell_type": "code",
   "execution_count": 28,
   "id": "161605ed",
   "metadata": {},
   "outputs": [
    {
     "data": {
      "text/plain": [
       "array([[1, 2]])"
      ]
     },
     "execution_count": 28,
     "metadata": {},
     "output_type": "execute_result"
    }
   ],
   "source": [
    "two_dim_array[:1,:2] #Select items at rows 0 and in column 0 and 1"
   ]
  },
  {
   "cell_type": "code",
   "execution_count": 29,
   "id": "8d65af7f",
   "metadata": {},
   "outputs": [
    {
     "data": {
      "text/plain": [
       "array([[[ 1,  2],\n",
       "        [ 4,  5]],\n",
       "\n",
       "       [[ 7,  8],\n",
       "        [10, 11]]])"
      ]
     },
     "execution_count": 29,
     "metadata": {},
     "output_type": "execute_result"
    }
   ],
   "source": [
    "three_dim_array[:2,:2,:2] #[Axis=0,Axis=1,Axis=2] "
   ]
  },
  {
   "cell_type": "code",
   "execution_count": 30,
   "id": "7bd7534e",
   "metadata": {},
   "outputs": [
    {
     "data": {
      "text/plain": [
       "array([[[ 7,  8,  9],\n",
       "        [10, 11, 12]]])"
      ]
     },
     "execution_count": 30,
     "metadata": {},
     "output_type": "execute_result"
    }
   ],
   "source": [
    "new_array=three_dim_array[1:,:] #Select from all columns of 2nd and 3rd row\n",
    "new_array"
   ]
  },
  {
   "cell_type": "code",
   "execution_count": 31,
   "id": "e0079af9",
   "metadata": {},
   "outputs": [
    {
     "data": {
      "text/plain": [
       "array([1, 2, 3, 4, 5])"
      ]
     },
     "execution_count": 31,
     "metadata": {},
     "output_type": "execute_result"
    }
   ],
   "source": [
    "one_dim_array[:-1] #Select all elements except last element"
   ]
  },
  {
   "cell_type": "markdown",
   "id": "8d446986",
   "metadata": {},
   "source": [
    "Change the value of element"
   ]
  },
  {
   "cell_type": "code",
   "execution_count": 32,
   "id": "ac2d77db",
   "metadata": {},
   "outputs": [
    {
     "data": {
      "text/plain": [
       "array([[[99, 99, 99],\n",
       "        [10, 11, 12]]])"
      ]
     },
     "execution_count": 32,
     "metadata": {},
     "output_type": "execute_result"
    }
   ],
   "source": [
    "new_array[0,0]=99\n",
    "new_array"
   ]
  },
  {
   "cell_type": "code",
   "execution_count": 33,
   "id": "88a2f9ae",
   "metadata": {},
   "outputs": [
    {
     "data": {
      "text/plain": [
       "array([[1, 2, 3],\n",
       "       [4, 5, 6]])"
      ]
     },
     "execution_count": 33,
     "metadata": {},
     "output_type": "execute_result"
    }
   ],
   "source": [
    "two_dim_array[1,0]=4\n",
    "two_dim_array"
   ]
  },
  {
   "cell_type": "markdown",
   "id": "03b00d93",
   "metadata": {},
   "source": [
    "### Mathematical Operations"
   ]
  },
  {
   "cell_type": "markdown",
   "id": "a5a8662c",
   "metadata": {},
   "source": [
    "#### Simple Operation"
   ]
  },
  {
   "cell_type": "code",
   "execution_count": 34,
   "id": "9aae7009",
   "metadata": {},
   "outputs": [
    {
     "data": {
      "text/plain": [
       "array([ 2,  4,  6,  8, 10, 12])"
      ]
     },
     "execution_count": 34,
     "metadata": {},
     "output_type": "execute_result"
    }
   ],
   "source": [
    "one_dim_array+[1,2,3,4,5,6] #Addition"
   ]
  },
  {
   "cell_type": "code",
   "execution_count": 35,
   "id": "22486cc5",
   "metadata": {},
   "outputs": [
    {
     "data": {
      "text/plain": [
       "array([[ 2,  4,  6],\n",
       "       [ 8, 10, 12]])"
      ]
     },
     "execution_count": 35,
     "metadata": {},
     "output_type": "execute_result"
    }
   ],
   "source": [
    "two_dim_array*2 #Multiplication"
   ]
  },
  {
   "cell_type": "code",
   "execution_count": 36,
   "id": "6ed5d364",
   "metadata": {},
   "outputs": [
    {
     "data": {
      "text/plain": [
       "array([[[1, 0, 1],\n",
       "        [0, 1, 0]],\n",
       "\n",
       "       [[1, 1, 1],\n",
       "        [0, 1, 0]]], dtype=int32)"
      ]
     },
     "execution_count": 36,
     "metadata": {},
     "output_type": "execute_result"
    }
   ],
   "source": [
    "three_dim_array%2 #Modulo"
   ]
  },
  {
   "cell_type": "code",
   "execution_count": 37,
   "id": "99c0d453",
   "metadata": {},
   "outputs": [
    {
     "data": {
      "text/plain": [
       "array([ 1,  4,  9, 16, 25, 36], dtype=int32)"
      ]
     },
     "execution_count": 37,
     "metadata": {},
     "output_type": "execute_result"
    }
   ],
   "source": [
    "np.square(one_dim_array) #Square of each element in 1D array"
   ]
  },
  {
   "cell_type": "markdown",
   "id": "8235ecbf",
   "metadata": {},
   "source": [
    "#### Exponent and Logarithm"
   ]
  },
  {
   "cell_type": "code",
   "execution_count": 38,
   "id": "98d6230d",
   "metadata": {},
   "outputs": [
    {
     "data": {
      "text/plain": [
       "array([  2.71828183,   7.3890561 ,  20.08553692,  54.59815003,\n",
       "       148.4131591 , 403.42879349])"
      ]
     },
     "execution_count": 38,
     "metadata": {},
     "output_type": "execute_result"
    }
   ],
   "source": [
    "np.exp(one_dim_array) #Exponentiation of each element in 1D array"
   ]
  },
  {
   "cell_type": "code",
   "execution_count": 39,
   "id": "6608f31f",
   "metadata": {},
   "outputs": [
    {
     "data": {
      "text/plain": [
       "array([[0.        , 0.69314718, 1.09861229],\n",
       "       [1.38629436, 1.60943791, 1.79175947]])"
      ]
     },
     "execution_count": 39,
     "metadata": {},
     "output_type": "execute_result"
    }
   ],
   "source": [
    "np.log(two_dim_array) #Elementwise natural logarithm"
   ]
  },
  {
   "cell_type": "markdown",
   "id": "d6804699",
   "metadata": {},
   "source": [
    "#### Broadcasting and Changing Array Shape "
   ]
  },
  {
   "cell_type": "markdown",
   "id": "24d4b2b0",
   "metadata": {},
   "source": [
    "The term broadcasting refers to the ability of NumPy to treat arrays of different shapes during arithmetic operations. Arithmetic operations on arrays are usually done on corresponding elements. If two arrays are of exactly the same shape, then these operations are smoothly performed.We can use reshape method on either of the arrays to make it compatible."
   ]
  },
  {
   "cell_type": "code",
   "execution_count": 40,
   "id": "42778c9e",
   "metadata": {},
   "outputs": [
    {
     "data": {
      "text/plain": [
       "array([1, 2, 3, 4, 5, 6])"
      ]
     },
     "execution_count": 40,
     "metadata": {},
     "output_type": "execute_result"
    }
   ],
   "source": [
    "one_dim_array"
   ]
  },
  {
   "cell_type": "code",
   "execution_count": 41,
   "id": "e16021bd",
   "metadata": {},
   "outputs": [
    {
     "data": {
      "text/plain": [
       "array([1, 2, 3, 4, 5, 6])"
      ]
     },
     "execution_count": 41,
     "metadata": {},
     "output_type": "execute_result"
    }
   ],
   "source": [
    "two_dim_array.reshape((6,)) #The reshape() function is used to give a new shape to an array without changing its data"
   ]
  },
  {
   "cell_type": "code",
   "execution_count": 42,
   "id": "192e7bea",
   "metadata": {},
   "outputs": [
    {
     "data": {
      "text/plain": [
       "array([ 2,  4,  6,  8, 10, 12])"
      ]
     },
     "execution_count": 42,
     "metadata": {},
     "output_type": "execute_result"
    }
   ],
   "source": [
    "one_dim_array+two_dim_array.reshape((6,)) "
   ]
  },
  {
   "cell_type": "code",
   "execution_count": 43,
   "id": "c40662ca",
   "metadata": {},
   "outputs": [
    {
     "data": {
      "text/plain": [
       "array([ 1,  2,  3,  4,  5,  6, 99, 99, 99, 10, 11, 12])"
      ]
     },
     "execution_count": 43,
     "metadata": {},
     "output_type": "execute_result"
    }
   ],
   "source": [
    "three_dim_array.ravel() #Flatten the array"
   ]
  },
  {
   "cell_type": "markdown",
   "id": "9ea3afe5",
   "metadata": {},
   "source": [
    "#### Aggregation"
   ]
  },
  {
   "cell_type": "code",
   "execution_count": 44,
   "id": "83a34509",
   "metadata": {},
   "outputs": [
    {
     "data": {
      "text/plain": [
       "21"
      ]
     },
     "execution_count": 44,
     "metadata": {},
     "output_type": "execute_result"
    }
   ],
   "source": [
    "np.sum(one_dim_array) #sum of all elements in 1D Array"
   ]
  },
  {
   "cell_type": "code",
   "execution_count": 45,
   "id": "9fd789c7",
   "metadata": {},
   "outputs": [
    {
     "data": {
      "text/plain": [
       "3.5"
      ]
     },
     "execution_count": 45,
     "metadata": {},
     "output_type": "execute_result"
    }
   ],
   "source": [
    "np.mean(one_dim_array) #average of all elemetnts in 1D array"
   ]
  },
  {
   "cell_type": "code",
   "execution_count": 46,
   "id": "2cdc9602",
   "metadata": {},
   "outputs": [
    {
     "data": {
      "text/plain": [
       "1.707825127659933"
      ]
     },
     "execution_count": 46,
     "metadata": {},
     "output_type": "execute_result"
    }
   ],
   "source": [
    "np.std(one_dim_array) #standard deviation of 1D array"
   ]
  },
  {
   "cell_type": "code",
   "execution_count": 47,
   "id": "569a4043",
   "metadata": {},
   "outputs": [
    {
     "data": {
      "text/plain": [
       "2.9166666666666665"
      ]
     },
     "execution_count": 47,
     "metadata": {},
     "output_type": "execute_result"
    }
   ],
   "source": [
    "np.var(one_dim_array) #variance of 1D array"
   ]
  },
  {
   "cell_type": "code",
   "execution_count": 48,
   "id": "8a65967e",
   "metadata": {},
   "outputs": [
    {
     "data": {
      "text/plain": [
       "(1, 6)"
      ]
     },
     "execution_count": 48,
     "metadata": {},
     "output_type": "execute_result"
    }
   ],
   "source": [
    "np.min(one_dim_array),np.max(one_dim_array) #min value and max value of 1D array"
   ]
  },
  {
   "cell_type": "code",
   "execution_count": 49,
   "id": "17abfbf6",
   "metadata": {},
   "outputs": [
    {
     "data": {
      "text/plain": [
       "(0, 5)"
      ]
     },
     "execution_count": 49,
     "metadata": {},
     "output_type": "execute_result"
    }
   ],
   "source": [
    "np.argmin(one_dim_array),np.argmax(one_dim_array) #find index of minimum value and maximum value of 1D array\n"
   ]
  },
  {
   "cell_type": "markdown",
   "id": "2c1e71e0",
   "metadata": {},
   "source": [
    "#### Transpose"
   ]
  },
  {
   "cell_type": "code",
   "execution_count": 50,
   "id": "86d1c2d6",
   "metadata": {},
   "outputs": [
    {
     "data": {
      "text/plain": [
       "array([[1, 2, 3],\n",
       "       [4, 5, 6]])"
      ]
     },
     "execution_count": 50,
     "metadata": {},
     "output_type": "execute_result"
    }
   ],
   "source": [
    "two_dim_array"
   ]
  },
  {
   "cell_type": "code",
   "execution_count": 51,
   "id": "4cddf3fc",
   "metadata": {},
   "outputs": [
    {
     "data": {
      "text/plain": [
       "array([[1, 4],\n",
       "       [2, 5],\n",
       "       [3, 6]])"
      ]
     },
     "execution_count": 51,
     "metadata": {},
     "output_type": "execute_result"
    }
   ],
   "source": [
    "two_dim_array.T #Transpose of 2D array"
   ]
  },
  {
   "cell_type": "markdown",
   "id": "5c027f95",
   "metadata": {},
   "source": [
    "#### Dot Product"
   ]
  },
  {
   "cell_type": "markdown",
   "id": "e541f121",
   "metadata": {},
   "source": [
    "<img src = \"https://cdn.hashnode.com/res/hashnode/image/upload/v1619672533959/LgFdKq3Vl.jpeg?auto=compress,format&format=webp\">"
   ]
  },
  {
   "cell_type": "code",
   "execution_count": 52,
   "id": "00c89990",
   "metadata": {},
   "outputs": [],
   "source": [
    "#Create matrix using random numbers\n",
    "matrix1=np.random.randint(2,10,size=(4,3))\n",
    "matrix2=np.random.randint(2,10,size=(3,4)) "
   ]
  },
  {
   "cell_type": "code",
   "execution_count": 53,
   "id": "a8b8aec7",
   "metadata": {},
   "outputs": [
    {
     "data": {
      "text/plain": [
       "(array([[3, 4, 7],\n",
       "        [6, 7, 9],\n",
       "        [7, 3, 5],\n",
       "        [4, 5, 5]]),\n",
       " array([[2, 4, 5, 8],\n",
       "        [7, 8, 6, 4],\n",
       "        [2, 2, 9, 5]]))"
      ]
     },
     "execution_count": 53,
     "metadata": {},
     "output_type": "execute_result"
    }
   ],
   "source": [
    "matrix1, matrix2"
   ]
  },
  {
   "cell_type": "code",
   "execution_count": 54,
   "id": "72f005e2",
   "metadata": {},
   "outputs": [
    {
     "data": {
      "text/plain": [
       "array([[ 48,  58, 102,  75],\n",
       "       [ 79,  98, 153, 121],\n",
       "       [ 45,  62,  98,  93],\n",
       "       [ 53,  66,  95,  77]])"
      ]
     },
     "execution_count": 54,
     "metadata": {},
     "output_type": "execute_result"
    }
   ],
   "source": [
    "np.dot(matrix1,matrix2) #Dot Product of matrix"
   ]
  },
  {
   "cell_type": "markdown",
   "id": "03f5fb19",
   "metadata": {},
   "source": [
    "#### Comparison "
   ]
  },
  {
   "cell_type": "code",
   "execution_count": 55,
   "id": "8fedaa4f",
   "metadata": {},
   "outputs": [
    {
     "data": {
      "text/plain": [
       "array([ True,  True,  True,  True,  True,  True])"
      ]
     },
     "execution_count": 55,
     "metadata": {},
     "output_type": "execute_result"
    }
   ],
   "source": [
    "one_dim_array <= two_dim_array.reshape(6,) #Check the condition"
   ]
  },
  {
   "cell_type": "code",
   "execution_count": 56,
   "id": "c6a266f1",
   "metadata": {},
   "outputs": [
    {
     "data": {
      "text/plain": [
       "array([False, False, False])"
      ]
     },
     "execution_count": 56,
     "metadata": {},
     "output_type": "execute_result"
    }
   ],
   "source": [
    "arr1= np.array([1,2,3])\n",
    "arr2=np.array([4,5,6])\n",
    "arr1==arr2 #Elementwise comparison"
   ]
  },
  {
   "cell_type": "code",
   "execution_count": 57,
   "id": "bca28c69",
   "metadata": {},
   "outputs": [
    {
     "data": {
      "text/plain": [
       "False"
      ]
     },
     "execution_count": 57,
     "metadata": {},
     "output_type": "execute_result"
    }
   ],
   "source": [
    "np.array_equal(arr1, arr2) #Arraywise comparison"
   ]
  },
  {
   "cell_type": "markdown",
   "id": "dfe4b636",
   "metadata": {},
   "source": [
    "### Array Concatenation and Splitting"
   ]
  },
  {
   "cell_type": "code",
   "execution_count": 58,
   "id": "1a2114b5",
   "metadata": {},
   "outputs": [
    {
     "data": {
      "text/plain": [
       "array([1, 2, 3, 4, 5, 6])"
      ]
     },
     "execution_count": 58,
     "metadata": {},
     "output_type": "execute_result"
    }
   ],
   "source": [
    "np.concatenate([arr1,arr2]) #Concatenation of two array"
   ]
  },
  {
   "cell_type": "code",
   "execution_count": 59,
   "id": "cf08b7f1",
   "metadata": {},
   "outputs": [
    {
     "data": {
      "text/plain": [
       "array([[1, 2, 3],\n",
       "       [4, 5, 6]])"
      ]
     },
     "execution_count": 59,
     "metadata": {},
     "output_type": "execute_result"
    }
   ],
   "source": [
    "np.vstack([arr1,arr2]) #Stack arrays in sequence vertically (row wise)"
   ]
  },
  {
   "cell_type": "code",
   "execution_count": 60,
   "id": "dab5addf",
   "metadata": {},
   "outputs": [
    {
     "data": {
      "text/plain": [
       "array([1, 2, 3, 4, 5, 6])"
      ]
     },
     "execution_count": 60,
     "metadata": {},
     "output_type": "execute_result"
    }
   ],
   "source": [
    "np.hstack([arr1,arr2]) #Stack arrays in sequence horizontally (column wise)"
   ]
  },
  {
   "cell_type": "code",
   "execution_count": 61,
   "id": "cc9b3f5a",
   "metadata": {},
   "outputs": [
    {
     "data": {
      "text/plain": [
       "[array([1, 2, 3]), array([4, 5, 6]), array([11,  8,  9])]"
      ]
     },
     "execution_count": 61,
     "metadata": {},
     "output_type": "execute_result"
    }
   ],
   "source": [
    "x=np.array([1,2,3,4,5,6,11,8,9])\n",
    "np.split(x,3) #split() method splits a string into number of list which contains equal elements."
   ]
  },
  {
   "cell_type": "code",
   "execution_count": 62,
   "id": "241f8b97",
   "metadata": {},
   "outputs": [
    {
     "data": {
      "text/plain": [
       "[array([ 1,  2,  3,  4,  5,  6, 11,  8]), array([9])]"
      ]
     },
     "execution_count": 62,
     "metadata": {},
     "output_type": "execute_result"
    }
   ],
   "source": [
    "np.hsplit(x,[8]) #split an array into multiple sub-arrays horizontally (column-wise)"
   ]
  },
  {
   "cell_type": "code",
   "execution_count": 63,
   "id": "30093e74",
   "metadata": {},
   "outputs": [
    {
     "data": {
      "text/plain": [
       "[array([[1, 2, 3],\n",
       "        [4, 5, 6]]),\n",
       " array([], shape=(0, 3), dtype=int32)]"
      ]
     },
     "execution_count": 63,
     "metadata": {},
     "output_type": "execute_result"
    }
   ],
   "source": [
    "np.vsplit(two_dim_array,[11])  #split an array into multiple sub-arrays vertically (row-wise)"
   ]
  },
  {
   "cell_type": "markdown",
   "id": "65638f35",
   "metadata": {},
   "source": [
    "### Sorting Array"
   ]
  },
  {
   "cell_type": "code",
   "execution_count": 64,
   "id": "d61b0560",
   "metadata": {},
   "outputs": [
    {
     "name": "stdout",
     "output_type": "stream",
     "text": [
      "[ 3  4  9 12 34 55 67]\n",
      "[5 0 1 4 3 2 6]\n"
     ]
    }
   ],
   "source": [
    "x = [4,9,55,34,12,3,67]\n",
    "print(np.sort(x)) #Returns the sorted array\n",
    "print(np.argsort(x)) #Returns the indices that would sort an array"
   ]
  },
  {
   "cell_type": "markdown",
   "id": "4f6fe68e",
   "metadata": {},
   "source": [
    "### Adding & Removing Data"
   ]
  },
  {
   "cell_type": "code",
   "execution_count": 65,
   "id": "491326d3",
   "metadata": {},
   "outputs": [
    {
     "data": {
      "text/plain": [
       "array([1. , 2. , 3. , 4. , 5. , 6. , 7. , 8. , 1. , 2.3, 4. ])"
      ]
     },
     "execution_count": 65,
     "metadata": {},
     "output_type": "execute_result"
    }
   ],
   "source": [
    "arr = np.array([1, 2, 3, 4, 5, 6, 7, 8])\n",
    "np.append(arr, [1,2.3,4]) #Adds elements at the end"
   ]
  },
  {
   "cell_type": "code",
   "execution_count": 66,
   "id": "37fb54b1",
   "metadata": {},
   "outputs": [
    {
     "data": {
      "text/plain": [
       "array([1, 2, 4, 5, 6, 7, 8])"
      ]
     },
     "execution_count": 66,
     "metadata": {},
     "output_type": "execute_result"
    }
   ],
   "source": [
    "np.delete(arr, 2) #Remove element with index 2"
   ]
  },
  {
   "cell_type": "code",
   "execution_count": 67,
   "id": "62220164",
   "metadata": {},
   "outputs": [
    {
     "data": {
      "text/plain": [
       "array([ 1, 15,  2,  3,  4,  5,  6,  7,  8])"
      ]
     },
     "execution_count": 67,
     "metadata": {},
     "output_type": "execute_result"
    }
   ],
   "source": [
    "np.insert(arr,1,15) #Insert items in an array at index 1"
   ]
  },
  {
   "cell_type": "markdown",
   "id": "4de05d53",
   "metadata": {},
   "source": [
    "### Copying Arrays"
   ]
  },
  {
   "cell_type": "markdown",
   "id": "efcaf578",
   "metadata": {},
   "source": [
    "The main difference between a copy and a view of an array is that the copy is a new array, and the view is just a view of the original array."
   ]
  },
  {
   "cell_type": "code",
   "execution_count": 68,
   "id": "3221d096",
   "metadata": {},
   "outputs": [
    {
     "data": {
      "text/plain": [
       "array([1, 2, 3, 4, 5, 6, 7, 8])"
      ]
     },
     "execution_count": 68,
     "metadata": {},
     "output_type": "execute_result"
    }
   ],
   "source": [
    "a = arr.view()#Create a view of the array with the same data\n",
    "a"
   ]
  },
  {
   "cell_type": "code",
   "execution_count": 69,
   "id": "15cd355f",
   "metadata": {},
   "outputs": [
    {
     "data": {
      "text/plain": [
       "array([1, 2, 3, 4, 5, 6, 7, 8])"
      ]
     },
     "execution_count": 69,
     "metadata": {},
     "output_type": "execute_result"
    }
   ],
   "source": [
    "b=np.copy(arr) #Create a copy of the array\n",
    "b"
   ]
  },
  {
   "cell_type": "markdown",
   "id": "5a7dfaf5",
   "metadata": {},
   "source": [
    "### Saving & Loading on Disk "
   ]
  },
  {
   "cell_type": "code",
   "execution_count": 70,
   "id": "454b8494",
   "metadata": {},
   "outputs": [],
   "source": [
    "np.save('my_array' , arr) #Save an array to a binary file in NumPy .npy format."
   ]
  },
  {
   "cell_type": "code",
   "execution_count": 71,
   "id": "5329abde",
   "metadata": {},
   "outputs": [],
   "source": [
    "np.savez( 'array.npz', arr, one_dim_array) #Save several arrays into a single file in uncompressed .npz format."
   ]
  },
  {
   "cell_type": "code",
   "execution_count": 72,
   "id": "d76e64d1",
   "metadata": {},
   "outputs": [
    {
     "data": {
      "text/plain": [
       "array([1, 2, 3, 4, 5, 6, 7, 8])"
      ]
     },
     "execution_count": 72,
     "metadata": {},
     "output_type": "execute_result"
    }
   ],
   "source": [
    "np.load( 'my_array.npy') #Load arrays or pickled objects from .npy"
   ]
  },
  {
   "cell_type": "markdown",
   "id": "9a5f526c",
   "metadata": {},
   "source": [
    "### Asking For Help ###"
   ]
  },
  {
   "cell_type": "code",
   "execution_count": 73,
   "id": "6d8ed993",
   "metadata": {},
   "outputs": [
    {
     "name": "stdout",
     "output_type": "stream",
     "text": [
      "Data-type of the array's elements.\n",
      "\n",
      "Parameters\n",
      "----------\n",
      "None\n",
      "\n",
      "Returns\n",
      "-------\n",
      "d : numpy dtype object\n",
      "\n",
      "See Also\n",
      "--------\n",
      "numpy.dtype\n",
      "\n",
      "Examples\n",
      "--------\n",
      ">>> x\n",
      "array([[0, 1],\n",
      "       [2, 3]])\n",
      ">>> x.dtype\n",
      "dtype('int32')\n",
      ">>> type(x.dtype)\n",
      "<type 'numpy.dtype'>\n"
     ]
    }
   ],
   "source": [
    "np.info(np.ndarray.dtype)\n"
   ]
  }
 ],
 "metadata": {
  "kernelspec": {
   "display_name": "Python 3 (ipykernel)",
   "language": "python",
   "name": "python3"
  },
  "language_info": {
   "codemirror_mode": {
    "name": "ipython",
    "version": 3
   },
   "file_extension": ".py",
   "mimetype": "text/x-python",
   "name": "python",
   "nbconvert_exporter": "python",
   "pygments_lexer": "ipython3",
   "version": "3.9.7"
  }
 },
 "nbformat": 4,
 "nbformat_minor": 5
}
